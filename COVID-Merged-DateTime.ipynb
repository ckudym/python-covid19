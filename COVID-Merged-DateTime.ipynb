{
 "cells": [
  {
   "cell_type": "code",
   "execution_count": 3,
   "metadata": {},
   "outputs": [],
   "source": [
    "import pandas as pd\n",
    "import numpy as np\n",
    "from datetime import datetime, timedelta\n",
    "from matplotlib import pyplot as plt\n",
    "from matplotlib import dates as mpl_dates\n",
    "from datetime import datetime\n",
    "from dateutil.parser import parse\n",
    "import csv"
   ]
  },
  {
   "cell_type": "code",
   "execution_count": 31,
   "metadata": {},
   "outputs": [],
   "source": [
    "virus_reps = pd.read_csv(\"data/coronavirus/full_data_2020-03-18a.csv\")\n",
    "total_reps = virus_reps[['date', 'location', 'total_cases']]\n",
    "total_reps.columns = ['Date', 'Location', 'Cases']\n",
    "#total_reps.plot.line()\n",
    "\n",
    "total_reps_us = total_reps.query(\"Location == 'United States'\")\n",
    "#total_reps_us.plot(kind='line')\n",
    "#print(total_reps_us)\n",
    "\n",
    "total_reps_china = total_reps.query(\"Location == 'China'\")\n",
    "#print(total_reps_china)\n",
    "#total_reps_china.plot(kind='line')\n",
    "\n",
    "total_reps_sk = total_reps.query(\"Location == 'South Korea'\")\n",
    "#print(total_reps_sk)\n",
    "#total_reps_sk.plot(kind='line')\n",
    "\n",
    "total_reps_italy = total_reps.query(\"Location == 'Italy'\")\n",
    "#print(total_reps_italy)\n",
    "#total_reps_italy.plot(kind='line')"
   ]
  },
  {
   "cell_type": "code",
   "execution_count": 32,
   "metadata": {},
   "outputs": [
    {
     "name": "stdout",
     "output_type": "stream",
     "text": [
      "           Date       Location  Cases\n",
      "0    2020-01-23  United States      1\n",
      "1    2020-01-24  United States      1\n",
      "2    2020-01-25  United States      2\n",
      "3    2020-01-26  United States      2\n",
      "4    2020-01-27  United States      5\n",
      "..          ...            ...    ...\n",
      "211  2020-03-13          Italy  15113\n",
      "212  2020-03-14          Italy  17660\n",
      "213  2020-03-15          Italy  21157\n",
      "214  2020-03-16          Italy  24747\n",
      "215  2020-03-17          Italy  27980\n",
      "\n",
      "[216 rows x 3 columns]\n"
     ]
    }
   ],
   "source": [
    "# Define column names\n",
    "colNames = ('Date', 'Location', 'Cases')\n",
    "\n",
    "# Define a dataframe with the required column names\n",
    "masterDF = pd.DataFrame(columns = colNames)\n",
    "\n",
    "# A list of the group names\n",
    "names = ['US','China','South Korea','Italy']\n",
    "\n",
    "# Create a dataframe for each group\n",
    "for i in names:\n",
    "    if i == 'US':\n",
    "        #myDF = total_reps_us\n",
    "        tempDF = pd.DataFrame(columns = colNames)\n",
    "        tempDF['Date'] = total_reps_us['Date']\n",
    "        tempDF['Location'] = total_reps_us['Location']\n",
    "        tempDF['Cases'] = total_reps_us['Cases']\n",
    "        #print(tempDF)\n",
    "        #print('\\n')\n",
    "        masterDF = masterDF.append(tempDF,ignore_index=True)\n",
    "    elif i == 'China':\n",
    "        myDF = total_reps_china\n",
    "        tempDF = pd.DataFrame(columns = colNames)\n",
    "        tempDF['Date'] = myDF['Date']\n",
    "        tempDF['Location'] = myDF['Location']\n",
    "        tempDF['Cases'] = myDF['Cases']\n",
    "        #print(tempDF)\n",
    "        #print('\\n')\n",
    "        masterDF = masterDF.append(tempDF,ignore_index=True)\n",
    "    elif i == 'South Korea':\n",
    "        myDF = total_reps_sk\n",
    "        tempDF = pd.DataFrame(columns = colNames)\n",
    "        tempDF['Date'] = myDF['Date']\n",
    "        tempDF['Location'] = myDF['Location']\n",
    "        tempDF['Cases'] = myDF['Cases']\n",
    "        #print(tempDF)\n",
    "        #print('\\n')\n",
    "        masterDF = masterDF.append(tempDF,ignore_index=True)\n",
    "    elif i == 'Italy':\n",
    "        myDF = total_reps_italy\n",
    "        tempDF = pd.DataFrame(columns = colNames)\n",
    "        tempDF['Date'] = myDF['Date']\n",
    "        tempDF['Location'] = myDF['Location']\n",
    "        tempDF['Cases'] = myDF['Cases']\n",
    "        #print(tempDF)\n",
    "        #print('\\n')\n",
    "        masterDF = masterDF.append(tempDF,ignore_index=True)\n",
    "    else:\n",
    "        print(\"Exited loop unexpectedly\")\n",
    "\n",
    "print(masterDF)"
   ]
  },
  {
   "cell_type": "code",
   "execution_count": 33,
   "metadata": {},
   "outputs": [
    {
     "data": {
      "text/plain": [
       "pandas.core.frame.DataFrame"
      ]
     },
     "execution_count": 33,
     "metadata": {},
     "output_type": "execute_result"
    }
   ],
   "source": [
    "type(masterDF)"
   ]
  },
  {
   "cell_type": "code",
   "execution_count": 35,
   "metadata": {},
   "outputs": [
    {
     "data": {
      "text/plain": [
       "<matplotlib.axes._subplots.AxesSubplot at 0x2bccc946188>"
      ]
     },
     "execution_count": 35,
     "metadata": {},
     "output_type": "execute_result"
    },
    {
     "data": {
      "image/png": "[encoded data removed]",
      "text/plain": [
       "<Figure size 432x288 with 1 Axes>"
      ]
     },
     "metadata": {
      "needs_background": "light"
     },
     "output_type": "display_data"
    }
   ],
   "source": [
    "masterDF.plot(x='Date', y='Cases')"
   ]
  },
  {
   "cell_type": "code",
   "execution_count": 41,
   "metadata": {},
   "outputs": [],
   "source": [
    "masterDF['Date'] = masterDF['Date'].astype('datetime64[ns]')"
   ]
  },
  {
   "cell_type": "code",
   "execution_count": 42,
   "metadata": {},
   "outputs": [
    {
     "data": {
      "text/plain": [
       "<matplotlib.axes._subplots.AxesSubplot at 0x2bccca4bf08>"
      ]
     },
     "execution_count": 42,
     "metadata": {},
     "output_type": "execute_result"
    },
    {
     "data": {
      "image/png": "[encoded data removed]",
      "text/plain": [
       "<Figure size 432x288 with 1 Axes>"
      ]
     },
     "metadata": {
      "needs_background": "light"
     },
     "output_type": "display_data"
    }
   ],
   "source": [
    "masterDF.plot(x='Date', y='Cases')"
   ]
  },
  {
   "cell_type": "code",
   "execution_count": 43,
   "metadata": {},
   "outputs": [
    {
     "data": {
      "text/html": [
       "<div>\n",
       "<style scoped>\n",
       "    .dataframe tbody tr th:only-of-type {\n",
       "        vertical-align: middle;\n",
       "    }\n",
       "\n",
       "    .dataframe tbody tr th {\n",
       "        vertical-align: top;\n",
       "    }\n",
       "\n",
       "    .dataframe thead th {\n",
       "        text-align: right;\n",
       "    }\n",
       "</style>\n",
       "<table border=\"1\" class=\"dataframe\">\n",
       "  <thead>\n",
       "    <tr style=\"text-align: right;\">\n",
       "      <th></th>\n",
       "      <th>Date</th>\n",
       "      <th>Location</th>\n",
       "      <th>Cases</th>\n",
       "    </tr>\n",
       "  </thead>\n",
       "  <tbody>\n",
       "    <tr>\n",
       "      <th>0</th>\n",
       "      <td>2020-01-23</td>\n",
       "      <td>United States</td>\n",
       "      <td>1</td>\n",
       "    </tr>\n",
       "    <tr>\n",
       "      <th>1</th>\n",
       "      <td>2020-01-24</td>\n",
       "      <td>United States</td>\n",
       "      <td>1</td>\n",
       "    </tr>\n",
       "    <tr>\n",
       "      <th>2</th>\n",
       "      <td>2020-01-25</td>\n",
       "      <td>United States</td>\n",
       "      <td>2</td>\n",
       "    </tr>\n",
       "    <tr>\n",
       "      <th>3</th>\n",
       "      <td>2020-01-26</td>\n",
       "      <td>United States</td>\n",
       "      <td>2</td>\n",
       "    </tr>\n",
       "    <tr>\n",
       "      <th>4</th>\n",
       "      <td>2020-01-27</td>\n",
       "      <td>United States</td>\n",
       "      <td>5</td>\n",
       "    </tr>\n",
       "  </tbody>\n",
       "</table>\n",
       "</div>"
      ],
      "text/plain": [
       "        Date       Location Cases\n",
       "0 2020-01-23  United States     1\n",
       "1 2020-01-24  United States     1\n",
       "2 2020-01-25  United States     2\n",
       "3 2020-01-26  United States     2\n",
       "4 2020-01-27  United States     5"
      ]
     },
     "execution_count": 43,
     "metadata": {},
     "output_type": "execute_result"
    }
   ],
   "source": [
    "masterDF.head()"
   ]
  },
  {
   "cell_type": "code",
   "execution_count": null,
   "metadata": {},
   "outputs": [],
   "source": []
  }
 ],
 "metadata": {
  "kernelspec": {
   "display_name": "Python 3",
   "language": "python",
   "name": "python3"
  },
  "language_info": {
   "codemirror_mode": {
    "name": "ipython",
    "version": 3
   },
   "file_extension": ".py",
   "mimetype": "text/x-python",
   "name": "python",
   "nbconvert_exporter": "python",
   "pygments_lexer": "ipython3",
   "version": "3.7.6"
  }
 },
 "nbformat": 4,
 "nbformat_minor": 4
}
